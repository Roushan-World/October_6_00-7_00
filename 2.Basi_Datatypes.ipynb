{
 "cells": [
  {
   "cell_type": "markdown",
   "id": "27391b1b-16c3-4b16-a8bc-966603c3baec",
   "metadata": {},
   "source": [
    "# 2.Basic Data types in Python\n"
   ]
  },
  {
   "cell_type": "code",
   "execution_count": 8,
   "id": "da4026d0-1c2e-4f8d-8159-97e07042c804",
   "metadata": {},
   "outputs": [
    {
     "name": "stdout",
     "output_type": "stream",
     "text": [
      "Hello World\n",
      "123\n",
      "123\n",
      "100\n",
      "123456\n",
      "123.56\n",
      "1456.23\n",
      "True\n",
      "False\n",
      "True\n",
      "False\n"
     ]
    }
   ],
   "source": [
    "#1. String      #2. Tuples   # 3. List   # 4. Dictionary   # 5. Set\n",
    "print('Hello World')\n",
    "print('123')\n",
    "\n",
    "# Integer\n",
    "\n",
    "print(123)\n",
    "print(100)\n",
    "print(123456)\n",
    "\n",
    "\n",
    "\n",
    "# Float\n",
    "print(123.56)\n",
    "print(1456.23)\n",
    "\n",
    "\n",
    "# Boolean\n",
    "print(True)    # value 1\n",
    "print(False)   # value 0\n",
    "\n",
    "print(bool(1))\n",
    "print(bool(0))"
   ]
  },
  {
   "cell_type": "markdown",
   "id": "91e5fdaf-121c-48b3-9648-2aad9d734ce6",
   "metadata": {},
   "source": [
    "# type() function"
   ]
  },
  {
   "cell_type": "code",
   "execution_count": 16,
   "id": "b457cf20-93bf-4fa9-95cb-d9c20b78c175",
   "metadata": {},
   "outputs": [
    {
     "name": "stdout",
     "output_type": "stream",
     "text": [
      "hello world\n",
      "<class 'str'>\n",
      "123\n",
      "<class 'str'>\n",
      "123\n",
      "<class 'int'>\n",
      "1000\n",
      "<class 'int'>\n",
      "123.2\n",
      "<class 'float'>\n",
      "True\n",
      "<class 'bool'>\n",
      "False\n",
      "<class 'bool'>\n"
     ]
    }
   ],
   "source": [
    "# 1. String\n",
    "\n",
    "print('hello world')\n",
    "print(type('hello world'))\n",
    "print('123')\n",
    "print(type('123'))\n",
    "\n",
    "\n",
    "# 2. Integer\n",
    "\n",
    "print(123)\n",
    "print(type(123))\n",
    "print(1000)\n",
    "print(type(1000))\n",
    "\n",
    "\n",
    "# 3. Float\n",
    "\n",
    "print(123.20)\n",
    "print(type(123.20))\n",
    "\n",
    "# 4. Boolean\n",
    "print(True)\n",
    "print(type(True))\n",
    "print(False)\n",
    "print(type(False))"
   ]
  },
  {
   "cell_type": "code",
   "execution_count": 18,
   "id": "d4a90258-af7f-476a-88ee-c1d30b70f0cf",
   "metadata": {},
   "outputs": [
    {
     "name": "stdout",
     "output_type": "stream",
     "text": [
      "sys.int_info(bits_per_digit=30, sizeof_digit=4, default_max_str_digits=4300, str_digits_check_threshold=640)\n",
      "sys.float_info(max=1.7976931348623157e+308, max_exp=1024, max_10_exp=308, min=2.2250738585072014e-308, min_exp=-1021, min_10_exp=-307, dig=15, mant_dig=53, epsilon=2.220446049250313e-16, radix=2, rounds=1)\n"
     ]
    }
   ],
   "source": [
    "import sys\n",
    "\n",
    "print(sys.int_info)\n",
    "\n",
    "print(sys.float_info)"
   ]
  },
  {
   "cell_type": "markdown",
   "id": "7d9f4bfc-7077-4ec0-bf60-a32c65a0ace5",
   "metadata": {},
   "source": [
    "# Converting an object type to another object type"
   ]
  },
  {
   "cell_type": "code",
   "execution_count": 24,
   "id": "b9b6f2a8-2cb5-4c0f-bb8b-fb4d5936d54a",
   "metadata": {},
   "outputs": [
    {
     "name": "stdout",
     "output_type": "stream",
     "text": [
      "6\n",
      "<class 'int'>\n",
      "6\n",
      "<class 'str'>\n",
      "6.0\n",
      "<class 'float'>\n"
     ]
    }
   ],
   "source": [
    "number=6\n",
    "print(number)\n",
    "print(type(number))\n",
    "\n",
    "print(str(number))\n",
    "print(type(str(number)))\n",
    "\n",
    "print(float(number))\n",
    "print(type(float(number)))"
   ]
  },
  {
   "cell_type": "code",
   "execution_count": null,
   "id": "907a39d0-3539-4583-a035-92662711d212",
   "metadata": {},
   "outputs": [],
   "source": []
  }
 ],
 "metadata": {
  "kernelspec": {
   "display_name": "Python 3 (ipykernel)",
   "language": "python",
   "name": "python3"
  },
  "language_info": {
   "codemirror_mode": {
    "name": "ipython",
    "version": 3
   },
   "file_extension": ".py",
   "mimetype": "text/x-python",
   "name": "python",
   "nbconvert_exporter": "python",
   "pygments_lexer": "ipython3",
   "version": "3.11.4"
  }
 },
 "nbformat": 4,
 "nbformat_minor": 5
}
