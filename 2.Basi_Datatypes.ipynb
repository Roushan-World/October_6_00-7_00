{
 "cells": [
  {
   "cell_type": "markdown",
   "id": "27391b1b-16c3-4b16-a8bc-966603c3baec",
   "metadata": {},
   "source": [
    "# 2.Basic Data types in Python\n"
   ]
  },
  {
   "cell_type": "code",
   "execution_count": 8,
   "id": "da4026d0-1c2e-4f8d-8159-97e07042c804",
   "metadata": {},
   "outputs": [
    {
     "name": "stdout",
     "output_type": "stream",
     "text": [
      "Hello World\n",
      "123\n",
      "123\n",
      "100\n",
      "123456\n",
      "123.56\n",
      "1456.23\n",
      "True\n",
      "False\n",
      "True\n",
      "False\n"
     ]
    }
   ],
   "source": [
    "#1. String      #2. Tuples   # 3. List   # 4. Dictionary   # 5. Set\n",
    "print('Hello World')\n",
    "print('123')\n",
    "\n",
    "# Integer\n",
    "\n",
    "print(123)\n",
    "print(100)\n",
    "print(123456)\n",
    "\n",
    "\n",
    "\n",
    "# Float\n",
    "print(123.56)\n",
    "print(1456.23)\n",
    "\n",
    "\n",
    "# Boolean\n",
    "print(True)    # value 1\n",
    "print(False)   # value 0\n",
    "\n",
    "print(bool(1))\n",
    "print(bool(0))"
   ]
  },
  {
   "cell_type": "markdown",
   "id": "91e5fdaf-121c-48b3-9648-2aad9d734ce6",
   "metadata": {},
   "source": [
    "# type() function"
   ]
  },
  {
   "cell_type": "code",
   "execution_count": 16,
   "id": "b457cf20-93bf-4fa9-95cb-d9c20b78c175",
   "metadata": {},
   "outputs": [
    {
     "name": "stdout",
     "output_type": "stream",
     "text": [
      "hello world\n",
      "<class 'str'>\n",
      "123\n",
      "<class 'str'>\n",
      "123\n",
      "<class 'int'>\n",
      "1000\n",
      "<class 'int'>\n",
      "123.2\n",
      "<class 'float'>\n",
      "True\n",
      "<class 'bool'>\n",
      "False\n",
      "<class 'bool'>\n"
     ]
    }
   ],
   "source": [
    "# 1. String\n",
    "\n",
    "print('hello world')\n",
    "print(type('hello world'))\n",
    "print('123')\n",
    "print(type('123'))\n",
    "\n",
    "\n",
    "# 2. Integer\n",
    "\n",
    "print(123)\n",
    "print(type(123))\n",
    "print(1000)\n",
    "print(type(1000))\n",
    "\n",
    "\n",
    "# 3. Float\n",
    "\n",
    "print(123.20)\n",
    "print(type(123.20))\n",
    "\n",
    "# 4. Boolean\n",
    "print(True)\n",
    "print(type(True))\n",
    "print(False)\n",
    "print(type(False))"
   ]
  },
  {
   "cell_type": "code",
   "execution_count": 18,
   "id": "d4a90258-af7f-476a-88ee-c1d30b70f0cf",
   "metadata": {},
   "outputs": [
    {
     "name": "stdout",
     "output_type": "stream",
     "text": [
      "sys.int_info(bits_per_digit=30, sizeof_digit=4, default_max_str_digits=4300, str_digits_check_threshold=640)\n",
      "sys.float_info(max=1.7976931348623157e+308, max_exp=1024, max_10_exp=308, min=2.2250738585072014e-308, min_exp=-1021, min_10_exp=-307, dig=15, mant_dig=53, epsilon=2.220446049250313e-16, radix=2, rounds=1)\n"
     ]
    }
   ],
   "source": [
    "import sys\n",
    "\n",
    "print(sys.int_info)\n",
    "\n",
    "print(sys.float_info)"
   ]
  },
  {
   "cell_type": "markdown",
   "id": "7d9f4bfc-7077-4ec0-bf60-a32c65a0ace5",
   "metadata": {},
   "source": [
    "# Converting an object type to another object type"
   ]
  },
  {
   "cell_type": "code",
   "execution_count": 24,
   "id": "b9b6f2a8-2cb5-4c0f-bb8b-fb4d5936d54a",
   "metadata": {},
   "outputs": [
    {
     "name": "stdout",
     "output_type": "stream",
     "text": [
      "6\n",
      "<class 'int'>\n",
      "6\n",
      "<class 'str'>\n",
      "6.0\n",
      "<class 'float'>\n"
     ]
    }
   ],
   "source": [
    "number=6\n",
    "print(number)\n",
    "print(type(number))\n",
    "\n",
    "print(str(number))\n",
    "print(type(str(number)))\n",
    "\n",
    "print(float(number))\n",
    "print(type(float(number)))"
   ]
  },
  {
   "cell_type": "code",
   "execution_count": 5,
   "id": "907a39d0-3539-4583-a035-92662711d212",
   "metadata": {},
   "outputs": [
    {
     "name": "stdout",
     "output_type": "stream",
     "text": [
      "3.14\n",
      "<class 'float'>\n",
      "3.14\n",
      "<class 'str'>\n"
     ]
    }
   ],
   "source": [
    "number1=3.14   # Str, #int\n",
    "print(number1)\n",
    "print(type(number1))\n",
    "\n",
    "print(str(number1))\n",
    "print(type(str(number1)))"
   ]
  },
  {
   "cell_type": "code",
   "execution_count": 11,
   "id": "8708aa43-56cf-4ccf-b58c-ec3fce00af9f",
   "metadata": {},
   "outputs": [
    {
     "name": "stdout",
     "output_type": "stream",
     "text": [
      "Original data: True\n",
      "<class 'bool'>\n",
      "True\n",
      "<class 'str'>\n"
     ]
    }
   ],
   "source": [
    "bool_1=True  # str=True, float=1.0, # int=1\n",
    "bool_2=False # str=False, float=0.0 # int=0\n",
    "\n",
    "print('Original data:',bool_1)\n",
    "print(type(bool_1))\n",
    "\n",
    "print(str(bool_1))\n",
    "print(type(str(bool_1)))"
   ]
  },
  {
   "cell_type": "markdown",
   "id": "4dd52516-5b61-4bf1-ac57-dedcd1514365",
   "metadata": {},
   "source": [
    "# Expression and Variables"
   ]
  },
  {
   "cell_type": "code",
   "execution_count": 13,
   "id": "17940260-27a1-40c2-9638-6565e67406df",
   "metadata": {},
   "outputs": [
    {
     "name": "stdout",
     "output_type": "stream",
     "text": [
      "278\n"
     ]
    }
   ],
   "source": [
    "# Addition\n",
    "\n",
    "x=56+89+45+63-75+100\n",
    "\n",
    "print(x)"
   ]
  },
  {
   "cell_type": "code",
   "execution_count": 15,
   "id": "0b950a00-2803-40dd-99bc-9e5fb0f00bdb",
   "metadata": {},
   "outputs": [
    {
     "name": "stdout",
     "output_type": "stream",
     "text": [
      "4\n"
     ]
    }
   ],
   "source": [
    "# Subtract\n",
    "\n",
    "x = 85-52-21-8\n",
    "print(x)"
   ]
  },
  {
   "cell_type": "code",
   "execution_count": 16,
   "id": "792a34df-6cf1-4040-a86f-b397ee34c129",
   "metadata": {},
   "outputs": [
    {
     "name": "stdout",
     "output_type": "stream",
     "text": [
      "592\n"
     ]
    }
   ],
   "source": [
    "# Multiplication\n",
    "\n",
    "x=8*74\n",
    "\n",
    "print(x)"
   ]
  },
  {
   "cell_type": "code",
   "execution_count": 17,
   "id": "e5913b44-30d5-4191-984a-4b9f3ffccdab",
   "metadata": {},
   "outputs": [
    {
     "name": "stdout",
     "output_type": "stream",
     "text": [
      "5.208333333333333\n"
     ]
    }
   ],
   "source": [
    "# Division\n",
    "\n",
    "x = 125/24   # float\n",
    "print(x)"
   ]
  },
  {
   "cell_type": "code",
   "execution_count": 18,
   "id": "e0fc0447-a834-4d0f-a300-39f8c4e56691",
   "metadata": {},
   "outputs": [
    {
     "data": {
      "text/plain": [
       "5"
      ]
     },
     "execution_count": 18,
     "metadata": {},
     "output_type": "execute_result"
    }
   ],
   "source": [
    "# Division\n",
    "\n",
    "x=125//24   # floor Divisio or integer divisio \n",
    "x"
   ]
  },
  {
   "cell_type": "code",
   "execution_count": 19,
   "id": "2516dc8b-65ef-415d-a321-b2ac608e46aa",
   "metadata": {},
   "outputs": [
    {
     "data": {
      "text/plain": [
       "0"
      ]
     },
     "execution_count": 19,
     "metadata": {},
     "output_type": "execute_result"
    }
   ],
   "source": [
    "# Modulus\n",
    "\n",
    "x=4%2  # it check the remainder value.\n",
    "x"
   ]
  },
  {
   "cell_type": "code",
   "execution_count": 20,
   "id": "97d1e2de-85c7-4f72-a8dc-f45db5e4c157",
   "metadata": {},
   "outputs": [
    {
     "data": {
      "text/plain": [
       "1"
      ]
     },
     "execution_count": 20,
     "metadata": {},
     "output_type": "execute_result"
    }
   ],
   "source": [
    "x=5%2\n",
    "x"
   ]
  },
  {
   "cell_type": "code",
   "execution_count": 21,
   "id": "6c017442-08c0-4a20-b02a-fa7f29e1e007",
   "metadata": {},
   "outputs": [
    {
     "data": {
      "text/plain": [
       "16"
      ]
     },
     "execution_count": 21,
     "metadata": {},
     "output_type": "execute_result"
    }
   ],
   "source": [
    "# Exponenet\n",
    "\n",
    "\n",
    "x=2**4\n",
    "x"
   ]
  },
  {
   "cell_type": "code",
   "execution_count": 22,
   "id": "d66f3580-79e4-4e28-be7b-5ffe806bf675",
   "metadata": {},
   "outputs": [
    {
     "data": {
      "text/plain": [
       "8"
      ]
     },
     "execution_count": 22,
     "metadata": {},
     "output_type": "execute_result"
    }
   ],
   "source": [
    "x=2**3\n",
    "x"
   ]
  },
  {
   "cell_type": "code",
   "execution_count": 24,
   "id": "17bd7c4c-d001-4146-a219-e6844108bf2c",
   "metadata": {},
   "outputs": [
    {
     "data": {
      "text/plain": [
       "65536"
      ]
     },
     "execution_count": 24,
     "metadata": {},
     "output_type": "execute_result"
    }
   ],
   "source": [
    "x=16**4\n",
    "x"
   ]
  },
  {
   "cell_type": "code",
   "execution_count": 27,
   "id": "f1ea11d1-8fd0-4244-bfa7-c33e073b9a9b",
   "metadata": {},
   "outputs": [
    {
     "name": "stdout",
     "output_type": "stream",
     "text": [
      "1200 minutes\n",
      "<class 'int'>\n"
     ]
    }
   ],
   "source": [
    "# An Example: Let's calculate how many minutes there are in 20 hrs?\n",
    "\n",
    "one_hour=60   # min\n",
    "\n",
    "hour=20   # hrs\n",
    "\n",
    "minutes=one_hour*hour\n",
    "print(minutes,'minutes')\n",
    "print(type(minutes))"
   ]
  },
  {
   "cell_type": "code",
   "execution_count": 29,
   "id": "3f99a2ff-5df8-4dd4-8583-7125f3ebff5d",
   "metadata": {},
   "outputs": [
    {
     "name": "stdout",
     "output_type": "stream",
     "text": [
      "5.8 Hours\n"
     ]
    }
   ],
   "source": [
    "# An Example: Let's calculate how many hours there are in 348 minutes?\n",
    "minutes=348  # questions\n",
    "one_hour=60  # minutes\n",
    "\n",
    "hours=minutes/one_hour\n",
    "print(hours,'Hours')"
   ]
  },
  {
   "cell_type": "markdown",
   "id": "6d3ddc4a-1e0e-4965-9dce-9558214ee1b6",
   "metadata": {},
   "source": [
    "# Mathematical Expression"
   ]
  },
  {
   "cell_type": "code",
   "execution_count": 37,
   "id": "bfe3582d-803f-4e59-94b7-22e5a4a29177",
   "metadata": {},
   "outputs": [
    {
     "name": "stdout",
     "output_type": "stream",
     "text": [
      "312\n",
      "4272\n",
      "4584\n",
      "-3960\n",
      "1332864\n",
      "0.07303370786516854\n",
      "57141039192990974343004858967279456861888368892157822490773230176164840472031632096770508439186422454905993565467013184475643169168701166839884214162349462097646348481562423483838560899009964381306204497713075933398927162249445214977774905738499498138833004597610541425686076712639474542340566501979148756025330432501304377836650057224903144890932272418679985053700339732785583599208727178741668478704507214168227570908046155897600787973890451611396302346678308280658377747122491957742609432231172899966091216797634904376248116922733897391620896786459430656952849460065582037599056454845897397272283990060416695375548630709328546758931403266035152311253137705616066051705312104176960162541151138394042129433537332086238888803197367728864435929727625526931501520079746774357979768678661583206515770644429230055920325511410244718262566835618947741119862950459251523672660991025064748325816161618674907292973430549464741932121408624741334625316916303426450380042988710514423061654464099538913305027877075411871755991025687375410955302831325070950155731124532520936734337409914783987052730172406537794082463181797315368071365358797193216\n"
     ]
    }
   ],
   "source": [
    "x = 45+3*89\n",
    "y = (45+3)*89\n",
    "\n",
    "print(x)\n",
    "print(y)\n",
    "\n",
    "print(x+y)\n",
    "print(x-y)\n",
    "print(x*y)\n",
    "print(x/y)\n",
    "print(y**x)"
   ]
  },
  {
   "cell_type": "markdown",
   "id": "adb795fd-0457-424b-b551-4fd555d93fa3",
   "metadata": {},
   "source": [
    "# Variables"
   ]
  },
  {
   "cell_type": "code",
   "execution_count": 38,
   "id": "70f93fc7-124b-4c92-9d64-09d22ab08015",
   "metadata": {},
   "outputs": [
    {
     "name": "stdout",
     "output_type": "stream",
     "text": [
      "89\n"
     ]
    }
   ],
   "source": [
    "# Store the value 89 into the variable 'number'\n",
    "\n",
    "number=89\n",
    "print(number)"
   ]
  },
  {
   "cell_type": "code",
   "execution_count": 39,
   "id": "cd5190b3-0988-441a-b994-f16850887512",
   "metadata": {},
   "outputs": [
    {
     "name": "stdout",
     "output_type": "stream",
     "text": [
      "-49\n"
     ]
    }
   ],
   "source": [
    "x=25\n",
    "y=87\n",
    "z=5*x-2*y\n",
    "print(z)"
   ]
  },
  {
   "cell_type": "code",
   "execution_count": 40,
   "id": "b956a575-7d40-4b84-ab82-0d2a12505e91",
   "metadata": {},
   "outputs": [
    {
     "data": {
      "text/plain": [
       "-3.5"
      ]
     },
     "execution_count": 40,
     "metadata": {},
     "output_type": "execute_result"
    }
   ],
   "source": [
    "t=z/14\n",
    "t"
   ]
  },
  {
   "cell_type": "code",
   "execution_count": 41,
   "id": "ce861f59-81e4-42f9-a0b2-139c58eb08dd",
   "metadata": {},
   "outputs": [
    {
     "data": {
      "text/plain": [
       "-49"
      ]
     },
     "execution_count": 41,
     "metadata": {},
     "output_type": "execute_result"
    }
   ],
   "source": [
    "z"
   ]
  },
  {
   "cell_type": "code",
   "execution_count": 42,
   "id": "580dcd69-c194-49b8-94f5-23ecc4ce6e03",
   "metadata": {},
   "outputs": [
    {
     "data": {
      "text/plain": [
       "-3.5"
      ]
     },
     "execution_count": 42,
     "metadata": {},
     "output_type": "execute_result"
    }
   ],
   "source": [
    "z=z/14\n",
    "z"
   ]
  },
  {
   "cell_type": "code",
   "execution_count": null,
   "id": "c59f6b05-bbd9-4a1b-b3b1-8507e7dee920",
   "metadata": {},
   "outputs": [],
   "source": []
  }
 ],
 "metadata": {
  "kernelspec": {
   "display_name": "Python 3 (ipykernel)",
   "language": "python",
   "name": "python3"
  },
  "language_info": {
   "codemirror_mode": {
    "name": "ipython",
    "version": 3
   },
   "file_extension": ".py",
   "mimetype": "text/x-python",
   "name": "python",
   "nbconvert_exporter": "python",
   "pygments_lexer": "ipython3",
   "version": "3.11.4"
  }
 },
 "nbformat": 4,
 "nbformat_minor": 5
}
